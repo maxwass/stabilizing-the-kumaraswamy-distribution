{
 "cells": [
  {
   "cell_type": "code",
   "execution_count": 1,
   "metadata": {},
   "outputs": [],
   "source": [
    "import torch\n",
    "import torch.distributions as dist\n",
    "import time\n",
    "import numpy as np\n",
    "import matplotlib.pyplot as plt\n",
    "\n",
    "from kumaraswamy import KumaraswamyStable\n",
    "from simple_squashed_normal import TanhNormal\n",
    "\n",
    "from config import FIGURES_DIR"
   ]
  },
  {
   "cell_type": "markdown",
   "metadata": {},
   "source": [
    "# Timing for Reparameterized Sample Generation and Gradient Computation\n",
    "\n",
    "TODO: Inspect gradient and likelihood implementation and remove unnecessary if/print statements!!!"
   ]
  },
  {
   "cell_type": "code",
   "execution_count": 2,
   "metadata": {},
   "outputs": [],
   "source": [
    "# Function to time sampling\n",
    "def time_sampling(distribution, num_samples, num_trials=15, warmup=5, seed=50):\n",
    "    torch.manual_seed(seed)\n",
    "    times = []\n",
    "    for _ in range(num_trials + warmup):\n",
    "        start = time.time()\n",
    "        samples = distribution.sample((num_samples,))\n",
    "        end = time.time()\n",
    "        times.append(end - start)\n",
    "    return np.mean(times[warmup:]), np.std(times[warmup:])\n",
    "\n",
    "# Function to time gradient computation\n",
    "def time_gradients(distribution, num_samples, num_trials=15, warmup=5, seed=50):\n",
    "    times = []\n",
    "    torch.manual_seed(seed)\n",
    "    for _ in range(num_trials + warmup):\n",
    "        samples = distribution.sample((num_samples,))\n",
    "        samples.requires_grad = True\n",
    "        start = time.time()\n",
    "        samples.sum().backward()\n",
    "        end = time.time()\n",
    "        times.append(end - start)\n",
    "    return np.mean(times[warmup:]), np.std(times[warmup:])"
   ]
  },
  {
   "cell_type": "code",
   "execution_count": null,
   "metadata": {},
   "outputs": [],
   "source": [
    "\"\"\" \n",
    "distributions =  [r'$\\mathcal{N}$', r'$\\mathcal{CB}$', 'Beta', 'Concrete', 'KS', 'PyTorch KS']\n",
    "\n",
    "### Reparameterized Samples and Gradients\n",
    "mean_times_samples = np.array([0.10256222, 0.04117042, 0.7423869, 0.0803507, 0.08920329, 0.05667113])\n",
    "mean_stds_samples = np.array([0.00176291, 0.00044402, 0.00074256, 0.0006771, 0.00054105, 0.00074391])\n",
    "\n",
    "mean_times_gradients = np.array([0.00203032, 0.00185609, 0.00253692, 0.00189848, 0.00189363, 0.00187704])\n",
    "mean_stds_gradients = np.array([0.0001874, 0.00007955, 0.0000645, 0.00025979, 0.00005977, 0.00007903])\n",
    "\n",
    "### Logpdf and Logpdf Gradients <-- currently ununsed\n",
    "# mean time (s) for log pdf eval\n",
    "log_pdf_means = np.array([0.028021, 0.15197,  0.193061, 0.111269, 0.088096, 0.115892])\n",
    "log_pdf_stds = np.array([0.001295, 0.008347, 0.008229, 0.002421, 0.001784, 0.001222])\n",
    "\n",
    "# mean time (s) for log pdf gradients\n",
    "grad_means = np.array([0.012458, 0.007047, 0.019013, 0.07272,  0.124605, 0.1040126])\"\n",
    "\"\"\"\""
   ]
  },
  {
   "cell_type": "code",
   "execution_count": 3,
   "metadata": {},
   "outputs": [],
   "source": [
    "# Initialize distributions\n",
    "temperature = torch.tensor([0.5])\n",
    "concentration1 = torch.tensor([0.5])\n",
    "concentration0 = torch.tensor([0.5])\n",
    "\n",
    "distributions = {\n",
    "    #'Gaussian': dist.Normal(loc=concentration1, scale=concentration0),\n",
    "    r'$\\mathcal{CB}$': dist.ContinuousBernoulli(probs=concentration1),\n",
    "    #r'$\\sigma_{\\mathcal{N}}$': dist.LogisticNormal(loc=concentration1, scale=concentration0),\n",
    "    r'$\\tanh_{\\mathcal{N}}$': TanhNormal(mu=concentration1, log_stdv=concentration0),\n",
    "    'Beta': dist.Beta(concentration1, concentration0),\n",
    "    #'Concrete': dist.RelaxedBernoulli(temperature, probs=concentration1),\n",
    "    'KS': KumaraswamyStable(concentration1, concentration0),\n",
    "    #'PyTorch KS': dist.Kumaraswamy(concentration1, concentration0)\n",
    "}\n",
    "\n",
    "num_samples = 10**7\n",
    "\n",
    "# Collect data\n",
    "data = {}\n",
    "for name, distribution in distributions.items():\n",
    "    sample_time_mean, sample_time_std = time_sampling(distribution, num_samples)\n",
    "    grad_time_mean, grad_time_std = time_gradients(distribution, num_samples)\n",
    "    data[name] = {\n",
    "        'Sample Time Mean': sample_time_mean,\n",
    "        'Sample Time Std': sample_time_std,\n",
    "        'Gradient Time Mean': grad_time_mean,\n",
    "        'Gradient Time Std': grad_time_std\n",
    "    }"
   ]
  },
  {
   "cell_type": "code",
   "execution_count": 4,
   "metadata": {},
   "outputs": [
    {
     "data": {
      "text/plain": [
       "\"\\nsample_means = [data[name]['Sample Time Mean'] for name in distributions.keys()]\\nsample_stds = [data[name]['Sample Time Std'] for name in distributions.keys()]\\ngrad_means = [data[name]['Gradient Time Mean'] for name in distributions.keys()]\\ngrad_stds = [data[name]['Gradient Time Std'] for name in distributions.keys()]\\nlabels = list(distributions.keys())\\n\""
      ]
     },
     "execution_count": 4,
     "metadata": {},
     "output_type": "execute_result"
    }
   ],
   "source": [
    "# Convert to numpy arrays for easy plotting\n",
    "\"\"\"\n",
    "sample_means = [data[name]['Sample Time Mean'] for name in distributions.keys()]\n",
    "sample_stds = [data[name]['Sample Time Std'] for name in distributions.keys()]\n",
    "grad_means = [data[name]['Gradient Time Mean'] for name in distributions.keys()]\n",
    "grad_stds = [data[name]['Gradient Time Std'] for name in distributions.keys()]\n",
    "labels = list(distributions.keys())\n",
    "\"\"\""
   ]
  },
  {
   "cell_type": "code",
   "execution_count": 5,
   "metadata": {},
   "outputs": [],
   "source": [
    "# Convert to numpy arrays for easy plotting\n",
    "sample_means = {name: data[name]['Sample Time Mean'] for name in distributions.keys()}\n",
    "sample_stds = {name: data[name]['Sample Time Std'] for name in distributions.keys()}\n",
    "grad_means = {name: data[name]['Gradient Time Mean'] for name in distributions.keys()}\n",
    "grad_stds = {name: data[name]['Gradient Time Std'] for name in distributions.keys()}\n",
    "labels = list(distributions.keys())"
   ]
  },
  {
   "cell_type": "code",
   "execution_count": 6,
   "metadata": {},
   "outputs": [
    {
     "data": {
      "text/plain": [
       "{'$\\\\mathcal{CB}$': 0.042143599192301436,\n",
       " '$\\\\tanh_{\\\\mathcal{N}}$': 0.11684966087341309,\n",
       " 'Beta': 0.7629620552062988,\n",
       " 'KS': 0.0910438855489095}"
      ]
     },
     "execution_count": 6,
     "metadata": {},
     "output_type": "execute_result"
    }
   ],
   "source": [
    "sample_means"
   ]
  },
  {
   "cell_type": "code",
   "execution_count": 7,
   "metadata": {},
   "outputs": [
    {
     "name": "stdout",
     "output_type": "stream",
     "text": [
      "distributions ['$\\\\mathcal{CB}$', '$\\\\tanh_{\\\\mathcal{N}}$', 'Beta', 'KS']\n",
      "mean time (s) for samples dict_values([0.042143599192301436, 0.11684966087341309, 0.7629620552062988, 0.0910438855489095])\n",
      "mean stdv (s) for samples dict_values([0.0009252658951042829, 0.0022712179737661687, 0.003948317303296395, 0.0051554156333127234]) \n",
      "\n",
      "mean time (s) for gradients dict_values([0.001937103271484375, 0.0019971688588460287, 0.003457371393839518, 0.0020449479420979817])\n",
      "mean stdv (s) for gradients dict_values([9.096840811697161e-05, 0.00011505598993607054, 0.0006609192738402059, 0.00012154920765342536])\n"
     ]
    }
   ],
   "source": [
    "# print 3 significant digits\n",
    "np.set_printoptions(precision=8)\n",
    "# turn off scientific notation\n",
    "np.set_printoptions(suppress=True)\n",
    "print(f'distributions', [s for s in distributions])\n",
    "print(f'mean time (s) for samples', np.array(sample_means.values()))\n",
    "print(f'mean stdv (s) for samples', np.array(sample_stds.values()), '\\n')\n",
    "print(f'mean time (s) for gradients', np.array(grad_means.values()))\n",
    "print(f'mean stdv (s) for gradients', np.array(grad_stds.values()))\n",
    "# turn off scientific notation"
   ]
  },
  {
   "cell_type": "code",
   "execution_count": 8,
   "metadata": {},
   "outputs": [
    {
     "data": {
      "text/plain": [
       "{'$\\\\mathcal{CB}$': ContinuousBernoulli(probs: tensor([0.5000])),\n",
       " '$\\\\tanh_{\\\\mathcal{N}}$': TanhNormal(mu: tensor([0.5000]), log_stdv: tensor([0.5000]), low: -1.0, high: 1.0),\n",
       " 'Beta': Beta(),\n",
       " 'KS': KumaraswamyStable(log_concentration1: tensor([0.5000]), log_concentration0: tensor([0.5000]))}"
      ]
     },
     "execution_count": 8,
     "metadata": {},
     "output_type": "execute_result"
    }
   ],
   "source": [
    "distributions"
   ]
  },
  {
   "cell_type": "code",
   "execution_count": 9,
   "metadata": {},
   "outputs": [],
   "source": [
    "# select subset and set order of distributions: Gaussian, Continuous Bernoulli, Beta, Concrete, KS, KS new\n",
    "distributions = {k: distributions[k] for k in [r'$\\mathcal{CB}$', r'$\\tanh_{\\mathcal{N}}$', 'Beta', 'KS']} #, r'$\\sigma_{\\mathcal{N}}$', 'PyTorch KS']}\n",
    "\n",
    "distribution_names = [name for name in distributions.keys()]\n",
    "\n",
    "def extract_list(data, distribution_names):\n",
    "    return [data[name] for name in distribution_names]"
   ]
  },
  {
   "cell_type": "code",
   "execution_count": 11,
   "metadata": {},
   "outputs": [
    {
     "data": {
      "image/png": "[encoded data removed]",
      "text/plain": [
       "<Figure size 250x350 with 1 Axes>"
      ]
     },
     "metadata": {},
     "output_type": "display_data"
    }
   ],
   "source": [
    "import numpy as np\n",
    "import matplotlib.pyplot as plt\n",
    "\n",
    "# Assuming distribution_names, sample_means, sample_stds, grad_means, grad_stds are defined elsewhere\n",
    "\n",
    "# Parameters\n",
    "bar_width = 0.1  # Width of the bars\n",
    "spacing = 0.15  # Space between the bars of separate distributions\n",
    "\n",
    "yticklabel_pad = -12\n",
    "fontsize_ticks = 12  # Font size for y-tick labels\n",
    "\n",
    "# Number of distributions\n",
    "n_distributions = len(distribution_names)\n",
    "\n",
    "# X locations for the groups\n",
    "x = np.arange(n_distributions) * (bar_width + spacing)\n",
    "\n",
    "# Create a single subplot\n",
    "fig, ax = plt.subplots(figsize=(2.5, 3.5))\n",
    "\n",
    "# Set grid lines behind the bars\n",
    "ax.set_axisbelow(True)\n",
    "\n",
    "# Sampling bars\n",
    "rects1 = ax.bar(x - bar_width/2, \n",
    "                extract_list(sample_means, distribution_names), \n",
    "                bar_width, label=r'Sampling (s)', \n",
    "                yerr=extract_list(sample_stds, distribution_names), \n",
    "                capsize=5)\n",
    "\n",
    "# Gradient computation bars (scaled to 1e-2)\n",
    "rects2 = ax.bar(x + bar_width/2, \n",
    "                1e2 * np.array(extract_list(grad_means, distribution_names)),  # Scale to 1e-2\n",
    "                bar_width, label=r'Gradient ($1e$-$2$ s)', \n",
    "                yerr=1e2 * np.array(extract_list(grad_stds, distribution_names)),  # Scale to 1e-2\n",
    "                capsize=5, color='orange')\n",
    "\n",
    "# Labels and ticks\n",
    "ax.set_xticks(x)\n",
    "ax.set_xticklabels(distribution_names, rotation=0)\n",
    "\n",
    "# Set y-axis limits and labels to accommodate both bars\n",
    "ax.set_ylim([0, 1])\n",
    "ax.set_yticks([0, 0.25, 0.5, 0.75])\n",
    "ax.set_yticklabels(['', r'$\\frac{1}{4}$', r'$\\frac{1}{2}$', r'$\\frac{3}{4}$'], fontsize=fontsize_ticks)\n",
    "ax.tick_params(axis='y', direction='in', pad=yticklabel_pad)  # Move ticks inside\n",
    "\n",
    "# Adding grid\n",
    "ax.grid(True, which='both', axis='y', linestyle='--', linewidth=0.5)\n",
    "\n",
    "# Manually set the legend location with adjusted spacing\n",
    "ax.legend(loc='upper left', bbox_to_anchor=(0.00, 1.005), fontsize=10, ncol=1, \n",
    "          handletextpad=0.4, columnspacing=0.5, borderaxespad=0.3)\n",
    "\n",
    "# Add the title shifted down by 10 units\n",
    "ax.set_ylabel('Time', fontsize=12, labelpad=0)\n",
    "\n",
    "# Save the figure\n",
    "#plt.savefig(FIGURES_DIR + 'sampling_gradient_timing.png', bbox_inches='tight', pad_inches=0.01, dpi=200)\n",
    "\n",
    "# Show the plot\n",
    "plt.show()\n"
   ]
  },
  {
   "cell_type": "code",
   "execution_count": null,
   "metadata": {},
   "outputs": [],
   "source": []
  },
  {
   "cell_type": "code",
   "execution_count": null,
   "metadata": {},
   "outputs": [],
   "source": []
  },
  {
   "cell_type": "code",
   "execution_count": null,
   "metadata": {},
   "outputs": [],
   "source": []
  },
  {
   "cell_type": "code",
   "execution_count": null,
   "metadata": {},
   "outputs": [],
   "source": []
  },
  {
   "cell_type": "markdown",
   "metadata": {},
   "source": [
    "# Timing for log-pdf evaluation and gradient computation"
   ]
  },
  {
   "cell_type": "code",
   "execution_count": 147,
   "metadata": {},
   "outputs": [],
   "source": [
    "import torch\n",
    "import torch.distributions as dist\n",
    "import time\n",
    "import numpy as np\n",
    "import matplotlib.pyplot as plt"
   ]
  },
  {
   "cell_type": "code",
   "execution_count": 148,
   "metadata": {},
   "outputs": [],
   "source": [
    "# Function to time log-pdf evaluation\n",
    "def time_log_pdf(distribution, y, num_trials=15, warmup=5):\n",
    "    times = []\n",
    "    for _ in range(num_trials + warmup):\n",
    "        start = time.time()\n",
    "        log_probs = distribution.log_prob(y)\n",
    "        end = time.time()\n",
    "        times.append(end - start)\n",
    "    return np.mean(times[warmup:]), np.std(times[warmup:])\n",
    "\n",
    "# Function to time gradient computation of log-pdf\n",
    "def time_log_pdf_gradients(distribution, y, num_trials=15, warmup=5):\n",
    "    times = []\n",
    "    for _ in range(num_trials + warmup):\n",
    "        y.requires_grad = True\n",
    "        log_probs = distribution.log_prob(y)\n",
    "        start = time.time()\n",
    "        log_probs.sum().backward()\n",
    "        end = time.time()\n",
    "        times.append(end - start)\n",
    "        y.grad = None\n",
    "    return np.mean(times[warmup:]), np.std(times[warmup:])\n",
    "\n",
    "# Initialize distributions\n",
    "batch_size = 10**7\n",
    "output_size = 1  # Can be adjusted based on the specific problem\n",
    "\n",
    "# seed\n",
    "torch.manual_seed(100)\n",
    "\n",
    "# Simulate output from an encoder and observed data\n",
    "params = torch.rand(batch_size, output_size)\n",
    "y = torch.rand(batch_size, output_size)\n",
    "\n",
    "# Define the parameter ranges for Beta distribution ensuring they are positive\n",
    "concentration1 = torch.rand(batch_size, output_size) + 0.1  # Adding 0.1 to avoid zero values\n",
    "concentration0 = torch.rand(batch_size, output_size) + 0.1\n",
    "\n",
    "# Create instances of distributions\n",
    "distributions = {\n",
    "    'Gaussian': dist.Normal(loc=params, scale=(params + 0.1) * 10**2),\n",
    "    'Contin. Bern.': dist.ContinuousBernoulli(probs=params),\n",
    "    'Beta': dist.Beta(concentration1, concentration0),\n",
    "    'Concrete': dist.RelaxedBernoulli(temperature=params, probs=params),\n",
    "    'KS': KumaraswamyStable(concentration1, concentration0),\n",
    "    'PyTorch KS': dist.Kumaraswamy(concentration1, concentration0)\n",
    "}\n",
    "\n",
    "# Collect data\n",
    "data = {}\n",
    "for name, distribution in distributions.items():\n",
    "    log_pdf_time_mean, log_pdf_time_std = time_log_pdf(distribution, y)\n",
    "    grad_time_mean, grad_time_std = time_log_pdf_gradients(distribution, y)\n",
    "    data[name] = {\n",
    "        'Log PDF Time Mean': log_pdf_time_mean,\n",
    "        'Log PDF Time Std': log_pdf_time_std,\n",
    "        'Gradient Time Mean': grad_time_mean,\n",
    "        'Gradient Time Std': grad_time_std\n",
    "    }\n"
   ]
  },
  {
   "cell_type": "code",
   "execution_count": 149,
   "metadata": {},
   "outputs": [],
   "source": [
    "# Convert to numpy arrays for easy plotting\n",
    "log_pdf_means = [data[name]['Log PDF Time Mean'] for name in distributions.keys()]\n",
    "log_pdf_stds = [data[name]['Log PDF Time Std'] for name in distributions.keys()]\n",
    "grad_means = [data[name]['Gradient Time Mean'] for name in distributions.keys()]\n",
    "grad_stds = [data[name]['Gradient Time Std'] for name in distributions.keys()]"
   ]
  },
  {
   "cell_type": "code",
   "execution_count": 150,
   "metadata": {},
   "outputs": [
    {
     "name": "stdout",
     "output_type": "stream",
     "text": [
      "distributions ['Gaussian', 'Contin. Bern.', 'Beta', 'Concrete', 'KS', 'PyTorch KS']\n",
      "mean time (s) for log pdf evaluation [0.028021 0.15197  0.193061 0.111269 0.088096 0.115892]\n",
      "mean stdv (s) for log pdf evaluation [0.001295 0.008347 0.008229 0.002421 0.001784 0.001222] \n",
      "\n",
      "mean time (s) for gradients [0.012458 0.007047 0.019013 0.07272  0.124605 0.104012]\n",
      "mean stdv (s) for gradients [0.000442 0.000477 0.000657 0.000566 0.000687 0.000606]\n"
     ]
    }
   ],
   "source": [
    "# print 3 significant digits\n",
    "np.set_printoptions(precision=6)\n",
    "print(f'distributions', [s for s in distributions])\n",
    "print(f'mean time (s) for log pdf evaluation', np.array(log_pdf_means))\n",
    "print(f'mean stdv (s) for log pdf evaluation', np.array(log_pdf_stds), '\\n')\n",
    "\n",
    "print(f'mean time (s) for gradients', np.array(grad_means))\n",
    "print(f'mean stdv (s) for gradients', np.array(grad_stds))\n",
    "# turn off scientific notation"
   ]
  },
  {
   "cell_type": "code",
   "execution_count": 153,
   "metadata": {},
   "outputs": [
    {
     "data": {
      "image/png": "[encoded data removed]",
      "text/plain": [
       "<Figure size 500x750 with 2 Axes>"
      ]
     },
     "metadata": {},
     "output_type": "display_data"
    }
   ],
   "source": [
    "import numpy as np\n",
    "import matplotlib.pyplot as plt\n",
    "\n",
    "# Data\n",
    "\"\"\"\n",
    "distributions = ['Gaussian', 'Contin. Bern.', 'Beta', 'Concrete', 'KS', 'PyTorch KS']\n",
    "# mean time (s) for log pdf eval\n",
    "log_pdf_means = np.array([0.028021, 0.15197,  0.193061, 0.111269, 0.088096, 0.115892])\n",
    "log_pdf_stds = np.array([0.001295, 0.008347, 0.008229, 0.002421, 0.001784, 0.001222])\n",
    "\n",
    "# mean time (s) for log pdf gradients\n",
    "grad_means = np.array([0.012458, 0.007047, 0.019013, 0.07272,  0.124605, 0.1040126])\n",
    "grad_stds = np.array([0.000442, 0.000477, 0.000657, 0.000566, 0.000687, 0.000606])\n",
    "\"\"\"\n",
    "\n",
    "# Plotting\n",
    "fig, axs = plt.subplots(2, 1, figsize=(5, 7.5), sharex=True)\n",
    "\n",
    "x = np.arange(len(distributions))\n",
    "width = 0.35\n",
    "\n",
    "# Sampling time\n",
    "i = 0\n",
    "axs[i].bar(x - width/2, log_pdf_means, width, yerr=log_pdf_stds, capsize=5)\n",
    "axs[i].set_ylabel('Time (s)')\n",
    "axs[i].set_title('Mean Time for Log-PDF Evaluation')\n",
    "\n",
    "# Gradient computation time for samples\n",
    "i += 1\n",
    "axs[i].bar(x - width/2, grad_means, width, yerr=grad_stds, capsize=5, color='orange')\n",
    "axs[i].set_ylabel('Time (s)')\n",
    "axs[i].set_title('Mean Time for Gradient Computation (Log-PDF)')\n",
    "\n",
    "\"\"\"\n",
    "# Log-PDF evaluation time\n",
    "i += 1\n",
    "axs[i].bar(x - width/2, mean_time_logpdf, width, yerr=stdv_time_logpdf, capsize=5, label='Log-PDF Evaluation Time')\n",
    "axs[i].set_ylabel('Time (s)')\n",
    "axs[i].set_title('Mean Time for Log-PDF Evaluation')\n",
    "axs[i].legend()\n",
    "\n",
    "# Gradient computation time for log-PDF\n",
    "i += 1\n",
    "axs[i].bar(x - width/2, mean_time_logpdf_gradients, width, yerr=stdv_time_logpdf_gradients, capsize=5, label='Gradient Time for Log-PDF')\n",
    "axs[i].set_ylabel('Time (s)')\n",
    "axs[i].set_title('Mean Time for Gradient Computation (Log-PDF)')\n",
    "axs[i].legend()\n",
    "\"\"\"\n",
    "\n",
    "\n",
    "# Set x-ticks and labels\n",
    "plt.xticks(x, distributions, rotation=25)\n",
    "#axs[i].set_xlabel('Distributions')\n",
    "\n",
    "# Adjust layout\n",
    "plt.tight_layout()\n",
    "plt.show()\n"
   ]
  }
 ],
 "metadata": {
  "kernelspec": {
   "display_name": "kumar",
   "language": "python",
   "name": "python3"
  },
  "language_info": {
   "codemirror_mode": {
    "name": "ipython",
    "version": 3
   },
   "file_extension": ".py",
   "mimetype": "text/x-python",
   "name": "python",
   "nbconvert_exporter": "python",
   "pygments_lexer": "ipython3",
   "version": "3.9.19"
  }
 },
 "nbformat": 4,
 "nbformat_minor": 2
}
